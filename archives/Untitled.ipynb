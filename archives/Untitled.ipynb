{
 "cells": [
  {
   "cell_type": "code",
   "execution_count": 19,
   "metadata": {
    "scrolled": false
   },
   "outputs": [
    {
     "name": "stdout",
     "output_type": "stream",
     "text": [
      "(3, 3)\n",
      "f2 = \n",
      " [[1. 2. 3.]\n",
      " [4. 5. 6.]\n",
      " [7. 8. 9.]]\n",
      "f2.shape = \n",
      " [1. 2. 3. 4. 5. 6. 7. 8. 9.]\n",
      "f2[2, 1] =  8.0\n",
      "f3 = \n",
      " [[[ 1.  2.  3.]\n",
      "  [ 4.  5.  6.]\n",
      "  [ 7.  8.  9.]]\n",
      "\n",
      " [[10. 11. 12.]\n",
      "  [13. 14. 15.]\n",
      "  [16. 17. 18.]]\n",
      "\n",
      " [[19. 20. 21.]\n",
      "  [22. 23. 24.]\n",
      "  [25. 26. 27.]]]\n",
      "f3.shape = \n",
      " [ 1.  2.  3.  4.  5.  6.  7.  8.  9. 10. 11. 12. 13. 14. 15. 16. 17. 18.\n",
      " 19. 20. 21. 22. 23. 24. 25. 26. 27.]\n"
     ]
    }
   ],
   "source": [
    "import numpy as np\n",
    "\n",
    "nx = 3\n",
    "ny = 3\n",
    "nz = 3\n",
    "\n",
    "f2 = np.zeros((nx, ny))\n",
    "f3 = np.zeros((nx, ny, nz))\n",
    "\n",
    "n = 0\n",
    "m = 0\n",
    "print(f2.shape)\n",
    "\n",
    "for i in range(nx):\n",
    "    for j in range(ny):\n",
    "        n = n + 1\n",
    "        f2[i, j] = n\n",
    "        for k in range(nz):\n",
    "            m = m + 1\n",
    "            f3[i, j, k] = m\n",
    "\n",
    "print('f2 = \\n', f2)\n",
    "print('f2.shape = \\n', f2.reshape((f2.shape[0] * f2.shape[1])) )\n",
    "print('f2[2, 1] = ', f2[2, 1])\n",
    "\n",
    "print('f3 = \\n', f3)\n",
    "print('f3.shape = \\n', f3.reshape((f3.shape[0] * f3.shape[1] * f3.shape[2],)) )"
   ]
  },
  {
   "cell_type": "code",
   "execution_count": 20,
   "metadata": {},
   "outputs": [],
   "source": [
    "f = [1, 2, 3]\n",
    "a, s, d = f"
   ]
  },
  {
   "cell_type": "code",
   "execution_count": 24,
   "metadata": {},
   "outputs": [],
   "source": [
    "g = {'a' : [1, 2, 3, 4], 'b' : np.zeros((2, 3))}\n",
    "np.save('test.npy', g)\n",
    "h = np.load('test.npy')\n",
    "q, w, e, r = h.item().get('a')"
   ]
  },
  {
   "cell_type": "code",
   "execution_count": 25,
   "metadata": {},
   "outputs": [
    {
     "data": {
      "text/plain": [
       "1"
      ]
     },
     "execution_count": 25,
     "metadata": {},
     "output_type": "execute_result"
    }
   ],
   "source": [
    "q"
   ]
  },
  {
   "cell_type": "code",
   "execution_count": 30,
   "metadata": {},
   "outputs": [
    {
     "data": {
      "text/plain": [
       "[1, 2, <function __main__.<lambda>(x)>, 4]"
      ]
     },
     "execution_count": 30,
     "metadata": {},
     "output_type": "execute_result"
    }
   ],
   "source": [
    "g = [1, 2, lambda x: x**2, 4]\n",
    "list(tuple(g))\n"
   ]
  },
  {
   "cell_type": "code",
   "execution_count": 5,
   "metadata": {},
   "outputs": [
    {
     "data": {
      "text/plain": [
       "[1, 2, 3]"
      ]
     },
     "execution_count": 5,
     "metadata": {},
     "output_type": "execute_result"
    }
   ],
   "source": [
    "g = [0, 1, 2, 3, 4, 5]\n",
    "mu = 3\n",
    "nu = len(g)\n",
    "g[mu//2:nu-mu//2-mu%2]"
   ]
  },
  {
   "cell_type": "code",
   "execution_count": 14,
   "metadata": {},
   "outputs": [
    {
     "name": "stdout",
     "output_type": "stream",
     "text": [
      "[[1.         1.66666667 2.33333333 3.        ]\n",
      " [1.         1.66666667 2.33333333 3.        ]\n",
      " [1.         1.66666667 2.33333333 3.        ]]\n",
      "[[   9.           21.66666667   39.66666667   63.        ]\n",
      " [  84.          202.22222222  370.22222222  588.        ]\n",
      " [ 234.          563.33333333 1031.33333333 1638.        ]]\n"
     ]
    }
   ],
   "source": [
    "import numpy as np\n",
    "from numpy.polynomial.chebyshev import chebval2d\n",
    "\n",
    "uu_adj = np.linspace(1, 3, 4)\n",
    "xx_adj = np.linspace(1, 6, 3)\n",
    "uu_grid, xx_grid = np.meshgrid(uu_adj, xx_adj)\n",
    "print(uu_grid)\n",
    "c = np.ones((3, 3))\n",
    "pux = chebval2d(uu_grid, xx_grid, c)\n",
    "print(pux)"
   ]
  },
  {
   "cell_type": "code",
   "execution_count": 16,
   "metadata": {},
   "outputs": [
    {
     "ename": "ModuleNotFoundError",
     "evalue": "No module named 'mpmath'",
     "output_type": "error",
     "traceback": [
      "\u001b[0;31m---------------------------------------------------------------------------\u001b[0m",
      "\u001b[0;31mModuleNotFoundError\u001b[0m                       Traceback (most recent call last)",
      "\u001b[0;32m<ipython-input-16-847737a90e78>\u001b[0m in \u001b[0;36m<module>\u001b[0;34m\u001b[0m\n\u001b[0;32m----> 1\u001b[0;31m \u001b[0;32mfrom\u001b[0m \u001b[0mmpmath\u001b[0m \u001b[0;32mimport\u001b[0m \u001b[0mchebyt\u001b[0m\u001b[0;34m\u001b[0m\u001b[0;34m\u001b[0m\u001b[0m\n\u001b[0m\u001b[1;32m      2\u001b[0m \u001b[0mchebyt\u001b[0m\u001b[0;34m(\u001b[0m\u001b[0;36m3\u001b[0m\u001b[0;34m,\u001b[0m \u001b[0;36m0.1\u001b[0m\u001b[0;34m)\u001b[0m\u001b[0;34m\u001b[0m\u001b[0;34m\u001b[0m\u001b[0m\n",
      "\u001b[0;31mModuleNotFoundError\u001b[0m: No module named 'mpmath'"
     ]
    }
   ],
   "source": [
    "from mpmath import chebyt\n",
    "chebyt(3, 0.1)"
   ]
  },
  {
   "cell_type": "code",
   "execution_count": null,
   "metadata": {},
   "outputs": [],
   "source": []
  }
 ],
 "metadata": {
  "kernelspec": {
   "display_name": "Python 3",
   "language": "python",
   "name": "python3"
  },
  "language_info": {
   "codemirror_mode": {
    "name": "ipython",
    "version": 3
   },
   "file_extension": ".py",
   "mimetype": "text/x-python",
   "name": "python",
   "nbconvert_exporter": "python",
   "pygments_lexer": "ipython3",
   "version": "3.7.1"
  }
 },
 "nbformat": 4,
 "nbformat_minor": 2
}
