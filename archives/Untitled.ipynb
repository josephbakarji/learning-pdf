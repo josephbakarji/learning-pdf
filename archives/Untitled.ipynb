{
 "cells": [
  {
   "cell_type": "code",
   "execution_count": 19,
   "metadata": {
    "scrolled": false
   },
   "outputs": [
    {
     "name": "stdout",
     "output_type": "stream",
     "text": [
      "(3, 3)\n",
      "f2 = \n",
      " [[1. 2. 3.]\n",
      " [4. 5. 6.]\n",
      " [7. 8. 9.]]\n",
      "f2.shape = \n",
      " [1. 2. 3. 4. 5. 6. 7. 8. 9.]\n",
      "f2[2, 1] =  8.0\n",
      "f3 = \n",
      " [[[ 1.  2.  3.]\n",
      "  [ 4.  5.  6.]\n",
      "  [ 7.  8.  9.]]\n",
      "\n",
      " [[10. 11. 12.]\n",
      "  [13. 14. 15.]\n",
      "  [16. 17. 18.]]\n",
      "\n",
      " [[19. 20. 21.]\n",
      "  [22. 23. 24.]\n",
      "  [25. 26. 27.]]]\n",
      "f3.shape = \n",
      " [ 1.  2.  3.  4.  5.  6.  7.  8.  9. 10. 11. 12. 13. 14. 15. 16. 17. 18.\n",
      " 19. 20. 21. 22. 23. 24. 25. 26. 27.]\n"
     ]
    }
   ],
   "source": [
    "import numpy as np\n",
    "\n",
    "nx = 3\n",
    "ny = 3\n",
    "nz = 3\n",
    "\n",
    "f2 = np.zeros((nx, ny))\n",
    "f3 = np.zeros((nx, ny, nz))\n",
    "\n",
    "n = 0\n",
    "m = 0\n",
    "print(f2.shape)\n",
    "\n",
    "for i in range(nx):\n",
    "    for j in range(ny):\n",
    "        n = n + 1\n",
    "        f2[i, j] = n\n",
    "        for k in range(nz):\n",
    "            m = m + 1\n",
    "            f3[i, j, k] = m\n",
    "\n",
    "print('f2 = \\n', f2)\n",
    "print('f2.shape = \\n', f2.reshape((f2.shape[0] * f2.shape[1])) )\n",
    "print('f2[2, 1] = ', f2[2, 1])\n",
    "\n",
    "print('f3 = \\n', f3)\n",
    "print('f3.shape = \\n', f3.reshape((f3.shape[0] * f3.shape[1] * f3.shape[2],)) )"
   ]
  },
  {
   "cell_type": "code",
   "execution_count": 20,
   "metadata": {},
   "outputs": [],
   "source": [
    "f = [1, 2, 3]\n",
    "a, s, d = f"
   ]
  },
  {
   "cell_type": "code",
   "execution_count": 24,
   "metadata": {},
   "outputs": [],
   "source": [
    "g = {'a' : [1, 2, 3, 4], 'b' : np.zeros((2, 3))}\n",
    "np.save('test.npy', g)\n",
    "h = np.load('test.npy')\n",
    "q, w, e, r = h.item().get('a')"
   ]
  },
  {
   "cell_type": "code",
   "execution_count": 25,
   "metadata": {},
   "outputs": [
    {
     "data": {
      "text/plain": [
       "1"
      ]
     },
     "execution_count": 25,
     "metadata": {},
     "output_type": "execute_result"
    }
   ],
   "source": [
    "q"
   ]
  },
  {
   "cell_type": "code",
   "execution_count": 30,
   "metadata": {},
   "outputs": [
    {
     "data": {
      "text/plain": [
       "[1, 2, <function __main__.<lambda>(x)>, 4]"
      ]
     },
     "execution_count": 30,
     "metadata": {},
     "output_type": "execute_result"
    }
   ],
   "source": [
    "g = [1, 2, lambda x: x**2, 4]\n",
    "list(tuple(g))\n"
   ]
  },
  {
   "cell_type": "code",
   "execution_count": 5,
   "metadata": {},
   "outputs": [
    {
     "data": {
      "text/plain": [
       "[1, 2, 3]"
      ]
     },
     "execution_count": 5,
     "metadata": {},
     "output_type": "execute_result"
    }
   ],
   "source": [
    "g = [0, 1, 2, 3, 4, 5]\n",
    "mu = 3\n",
    "nu = len(g)\n",
    "g[mu//2:nu-mu//2-mu%2]"
   ]
  },
  {
   "cell_type": "code",
   "execution_count": null,
   "metadata": {},
   "outputs": [],
   "source": []
  }
 ],
 "metadata": {
  "kernelspec": {
   "display_name": "Python 3",
   "language": "python",
   "name": "python3"
  },
  "language_info": {
   "codemirror_mode": {
    "name": "ipython",
    "version": 3
   },
   "file_extension": ".py",
   "mimetype": "text/x-python",
   "name": "python",
   "nbconvert_exporter": "python",
   "pygments_lexer": "ipython3",
   "version": "3.7.1"
  }
 },
 "nbformat": 4,
 "nbformat_minor": 2
}
