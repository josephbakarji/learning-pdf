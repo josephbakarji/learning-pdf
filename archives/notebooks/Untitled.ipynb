{
 "cells": [
  {
   "cell_type": "code",
   "execution_count": 39,
   "metadata": {
    "scrolled": false
   },
   "outputs": [
    {
     "name": "stdout",
     "output_type": "stream",
     "text": [
      "(3, 3)\n",
      "f2 = \n",
      " [[1. 2. 3.]\n",
      " [4. 5. 6.]\n",
      " [7. 8. 9.]]\n",
      "f2.shape = \n",
      " [1. 2. 3. 4. 5. 6. 7. 8. 9.]\n",
      "f2[2, 1] =  8.0\n",
      "f3 = \n",
      " [[[ 1.  2.  3.]\n",
      "  [ 4.  5.  6.]\n",
      "  [ 7.  8.  9.]]\n",
      "\n",
      " [[10. 11. 12.]\n",
      "  [13. 14. 15.]\n",
      "  [16. 17. 18.]]\n",
      "\n",
      " [[19. 20. 21.]\n",
      "  [22. 23. 24.]\n",
      "  [25. 26. 27.]]]\n",
      "f3.shape = \n",
      " [ 1.  2.  3.  4.  5.  6.  7.  8.  9. 10. 11. 12. 13. 14. 15. 16. 17. 18.\n",
      " 19. 20. 21. 22. 23. 24. 25. 26. 27.]\n"
     ]
    }
   ],
   "source": [
    "import numpy as np\n",
    "\n",
    "nx = 3\n",
    "ny = 3\n",
    "nz = 3\n",
    "\n",
    "f2 = np.zeros((nx, ny))\n",
    "f3 = np.zeros((nx, ny, nz))\n",
    "\n",
    "n = 0\n",
    "m = 0\n",
    "print(f2.shape)\n",
    "\n",
    "for i in range(nx):\n",
    "    for j in range(ny):\n",
    "        n = n + 1\n",
    "        f2[i, j] = n\n",
    "        for k in range(nz):\n",
    "            m = m + 1\n",
    "            f3[i, j, k] = m\n",
    "\n",
    "print('f2 = \\n', f2)\n",
    "print('f2.shape = \\n', f2.reshape((f2.shape[0] * f2.shape[1])) )\n",
    "print('f2[2, 1] = ', f2[2, 1])\n",
    "\n",
    "print('f3 = \\n', f3)\n",
    "print('f3.shape = \\n', f3.reshape((f3.shape[0] * f3.shape[1] * f3.shape[2],)) )"
   ]
  },
  {
   "cell_type": "code",
   "execution_count": 40,
   "metadata": {},
   "outputs": [],
   "source": [
    "f = [1, 2, 3]\n",
    "a, s, d = f"
   ]
  },
  {
   "cell_type": "code",
   "execution_count": 41,
   "metadata": {},
   "outputs": [],
   "source": [
    "g = {'a' : [1, 2, 3, 4], 'b' : np.zeros((2, 3))}\n",
    "np.save('test.npy', g)\n",
    "h = np.load('test.npy')\n",
    "q, w, e, r = h.item().get('a')"
   ]
  },
  {
   "cell_type": "code",
   "execution_count": 42,
   "metadata": {},
   "outputs": [
    {
     "name": "stdout",
     "output_type": "stream",
     "text": [
      "[[7 8]\n",
      " [5 6]\n",
      " [3 4]\n",
      " [1 2]]\n",
      "[4 3 2 1]\n"
     ]
    }
   ],
   "source": [
    "g = np.array([[1, 2], [3, 4], [5, 6], [7, 8]])\n",
    "f = np.array([1, 2, 3, 4])\n",
    "rng_state = np.random.get_state()\n",
    "np.random.shuffle(g)\n",
    "np.random.set_state(rng_state)\n",
    "np.random.shuffle(f)\n",
    "print(g)\n",
    "print(f)"
   ]
  },
  {
   "cell_type": "code",
   "execution_count": 43,
   "metadata": {},
   "outputs": [
    {
     "data": {
      "text/plain": [
       "'3'"
      ]
     },
     "execution_count": 43,
     "metadata": {},
     "output_type": "execute_result"
    }
   ],
   "source": [
    "np.str(3)"
   ]
  },
  {
   "cell_type": "code",
   "execution_count": 44,
   "metadata": {},
   "outputs": [
    {
     "data": {
      "text/plain": [
       "2.5"
      ]
     },
     "execution_count": 44,
     "metadata": {},
     "output_type": "execute_result"
    }
   ],
   "source": [
    "l = [1, 2 ,3, 4]\n",
    "sum(l)/len(l)"
   ]
  },
  {
   "cell_type": "code",
   "execution_count": 45,
   "metadata": {},
   "outputs": [
    {
     "data": {
      "text/plain": [
       "3"
      ]
     },
     "execution_count": 45,
     "metadata": {},
     "output_type": "execute_result"
    }
   ],
   "source": [
    "import numpy as np\n",
    "g = np.linspace(1, 2, 3)\n",
    "g.size"
   ]
  },
  {
   "cell_type": "code",
   "execution_count": 46,
   "metadata": {},
   "outputs": [
    {
     "ename": "TypeError",
     "evalue": "array() missing required argument 'object' (pos 1)",
     "output_type": "error",
     "traceback": [
      "\u001b[0;31m---------------------------------------------------------------------------\u001b[0m",
      "\u001b[0;31mTypeError\u001b[0m                                 Traceback (most recent call last)",
      "\u001b[0;32m<ipython-input-46-da1a6a0021b4>\u001b[0m in \u001b[0;36m<module>\u001b[0;34m\u001b[0m\n\u001b[1;32m      1\u001b[0m \u001b[0mnp\u001b[0m\u001b[0;34m.\u001b[0m\u001b[0mzeros\u001b[0m\u001b[0;34m(\u001b[0m\u001b[0;34m(\u001b[0m\u001b[0;36m1\u001b[0m\u001b[0;34m,\u001b[0m \u001b[0;36m2\u001b[0m\u001b[0;34m)\u001b[0m\u001b[0;34m)\u001b[0m\u001b[0;34m\u001b[0m\u001b[0;34m\u001b[0m\u001b[0m\n\u001b[0;32m----> 2\u001b[0;31m \u001b[0mg\u001b[0m \u001b[0;34m=\u001b[0m \u001b[0mnp\u001b[0m\u001b[0;34m.\u001b[0m\u001b[0marray\u001b[0m\u001b[0;34m(\u001b[0m\u001b[0;34m)\u001b[0m\u001b[0;34m\u001b[0m\u001b[0;34m\u001b[0m\u001b[0m\n\u001b[0m\u001b[1;32m      3\u001b[0m \u001b[0mf\u001b[0m \u001b[0;34m=\u001b[0m \u001b[0mnp\u001b[0m\u001b[0;34m.\u001b[0m\u001b[0marray\u001b[0m\u001b[0;34m(\u001b[0m\u001b[0;34m[\u001b[0m\u001b[0;34m[\u001b[0m\u001b[0;36m5\u001b[0m\u001b[0;34m,\u001b[0m \u001b[0;36m5\u001b[0m\u001b[0;34m,\u001b[0m \u001b[0;36m4\u001b[0m\u001b[0;34m]\u001b[0m\u001b[0;34m,\u001b[0m \u001b[0;34m[\u001b[0m\u001b[0;36m3\u001b[0m\u001b[0;34m,\u001b[0m \u001b[0;36m2\u001b[0m\u001b[0;34m,\u001b[0m \u001b[0;36m1\u001b[0m\u001b[0;34m]\u001b[0m\u001b[0;34m]\u001b[0m\u001b[0;34m)\u001b[0m\u001b[0;34m\u001b[0m\u001b[0;34m\u001b[0m\u001b[0m\n\u001b[1;32m      4\u001b[0m \u001b[0mnp\u001b[0m\u001b[0;34m.\u001b[0m\u001b[0mappend\u001b[0m\u001b[0;34m(\u001b[0m\u001b[0mf\u001b[0m\u001b[0;34m,\u001b[0m \u001b[0mg\u001b[0m\u001b[0;34m,\u001b[0m \u001b[0maxis\u001b[0m\u001b[0;34m=\u001b[0m\u001b[0;36m0\u001b[0m\u001b[0;34m)\u001b[0m\u001b[0;34m\u001b[0m\u001b[0;34m\u001b[0m\u001b[0m\n",
      "\u001b[0;31mTypeError\u001b[0m: array() missing required argument 'object' (pos 1)"
     ]
    }
   ],
   "source": [
    "np.zeros((1, 2))\n",
    "g = np.array()\n",
    "f = np.array([[5, 5, 4], [3, 2, 1]])\n",
    "np.append(f, g, axis=0)"
   ]
  },
  {
   "cell_type": "code",
   "execution_count": 1,
   "metadata": {},
   "outputs": [
    {
     "name": "stdout",
     "output_type": "stream",
     "text": [
      "(2, 3, 4)\n",
      "[[[1 1 1 1]\n",
      "  [2 2 2 2]\n",
      "  [3 3 3 3]]\n",
      "\n",
      " [[4 4 4 4]\n",
      "  [5 5 5 5]\n",
      "  [6 6 6 6]]]\n"
     ]
    }
   ],
   "source": [
    "import numpy as np\n",
    "x = np.ones((2, 3, 4))\n",
    "y = np.array([[1, 2, 3],[4, 5, 6]]) # 2*3\n",
    "yf = np.tile(y.transpose(), (4, 1, 1)).transpose()\n",
    "print(yf.shape)\n",
    "print(yf)"
   ]
  },
  {
   "cell_type": "code",
   "execution_count": 9,
   "metadata": {},
   "outputs": [
    {
     "name": "stdout",
     "output_type": "stream",
     "text": [
      "[3, 4, 9]\n"
     ]
    }
   ],
   "source": [
    "#rem_feature_idx = range(10)\n",
    "null_feature_idx = {0, 1, 2, 5, 6, 7, 8}\n",
    "rem_feature_idx = [i for i in rem_feature_idx if i not in set(null_feature_idx)]\n",
    "print(rem_feature_idx)\n"
   ]
  },
  {
   "cell_type": "code",
   "execution_count": 12,
   "metadata": {},
   "outputs": [
    {
     "data": {
      "text/plain": [
       "True"
      ]
     },
     "execution_count": 12,
     "metadata": {},
     "output_type": "execute_result"
    }
   ],
   "source": [
    "f = {'r':4, 'g':6}\n",
    "g = f\n",
    "f = {'r':{'t':4, 'e':6}, 'g':6}\n",
    "h = {'r':{'e':6, 't':4}, 'g':6}\n",
    "f==h"
   ]
  },
  {
   "cell_type": "code",
   "execution_count": 22,
   "metadata": {},
   "outputs": [
    {
     "data": {
      "text/plain": [
       "24"
      ]
     },
     "execution_count": 22,
     "metadata": {},
     "output_type": "execute_result"
    }
   ],
   "source": []
  },
  {
   "cell_type": "code",
   "execution_count": 31,
   "metadata": {},
   "outputs": [
    {
     "data": {
      "text/plain": [
       "['g', 'h', 't', 'y']"
      ]
     },
     "execution_count": 31,
     "metadata": {},
     "output_type": "execute_result"
    }
   ],
   "source": [
    "metadata = {'a':{'g': 1, 'h': 2}, 'b':{'t':4, 'y':6}}\n",
    "g = [key for val0 in metadata.values() for key in val0.keys()]\n",
    "g"
   ]
  },
  {
   "cell_type": "code",
   "execution_count": 32,
   "metadata": {},
   "outputs": [],
   "source": [
    "g = 1\n",
    "if g==2:\n",
    "    print(g)\n",
    "elif g == 3:\n",
    "    print(g)"
   ]
  },
  {
   "cell_type": "code",
   "execution_count": 33,
   "metadata": {},
   "outputs": [
    {
     "ename": "TypeError",
     "evalue": "'NoneType' object is not iterable",
     "output_type": "error",
     "traceback": [
      "\u001b[0;31m---------------------------------------------------------------------------\u001b[0m",
      "\u001b[0;31mTypeError\u001b[0m                                 Traceback (most recent call last)",
      "\u001b[0;32m<ipython-input-33-cd95f5c13c52>\u001b[0m in \u001b[0;36m<module>\u001b[0;34m\u001b[0m\n\u001b[0;32m----> 1\u001b[0;31m \u001b[0mset\u001b[0m\u001b[0;34m(\u001b[0m\u001b[0;32mNone\u001b[0m\u001b[0;34m)\u001b[0m\u001b[0;34m\u001b[0m\u001b[0;34m\u001b[0m\u001b[0m\n\u001b[0m",
      "\u001b[0;31mTypeError\u001b[0m: 'NoneType' object is not iterable"
     ]
    }
   ],
   "source": [
    "set(None)"
   ]
  },
  {
   "cell_type": "code",
   "execution_count": null,
   "metadata": {},
   "outputs": [],
   "source": []
  }
 ],
 "metadata": {
  "kernelspec": {
   "display_name": "Python 3",
   "language": "python",
   "name": "python3"
  },
  "language_info": {
   "codemirror_mode": {
    "name": "ipython",
    "version": 3
   },
   "file_extension": ".py",
   "mimetype": "text/x-python",
   "name": "python",
   "nbconvert_exporter": "python",
   "pygments_lexer": "ipython3",
   "version": "3.7.1"
  }
 },
 "nbformat": 4,
 "nbformat_minor": 2
}
