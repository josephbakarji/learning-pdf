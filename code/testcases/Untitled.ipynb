{
 "cells": [
  {
   "cell_type": "code",
   "execution_count": 1,
   "metadata": {},
   "outputs": [
    {
     "name": "stdout",
     "output_type": "stream",
     "text": [
      "advection_reaction_analytical\n",
      "advection_reaction_analytical_635_195.npy\n",
      "╒═══════════════════════════════════════╤════════════════╤═══════════╤═════════════╤════════════╤═══════════════════════════════════════╤═════════════════════════╤════════════════════╤═════════════════════╕\n",
      "│ File Name                             │ distribution   │   MCcount │ bandwidth   │   u_margin │ MCfile                                │ u                       │ t                  │ x                   │\n",
      "╞═══════════════════════════════════════╪════════════════╪═══════════╪═════════════╪════════════╪═══════════════════════════════════════╪═════════════════════════╪════════════════════╪═════════════════════╡\n",
      "│ advection_reaction_analytical_635_195 │ PDF            │     50000 │ scott       │     -1e-10 │ advection_reaction_analytical_635.npy │ [0.1613, 4.637, 0.0225] │ [0.0, 0.5, 0.0085] │ [-2.0, 3.0, 0.0218] │\n",
      "╘═══════════════════════════════════════╧════════════════╧═══════════╧═════════════╧════════════╧═══════════════════════════════════════╧═════════════════════════╧════════════════════╧═════════════════════╛\n"
     ]
    }
   ],
   "source": [
    "from __init__ import *\n",
    "import matplotlib.pyplot as plt\n",
    "from matplotlib import rc\n",
    "rc('text', usetex=True)\n",
    "\n",
    "from data_analysis import Analyze\n",
    "from mc2pdf import MCprocessing\n",
    "from datamanage import DataIO\n",
    "from montecarlo import MonteCarlo\n",
    "from analytical_solutions import AnalyticalSolution, gaussian\n",
    "from mc2pdf import MCprocessing\n",
    "from pdfsolver import PdfGrid\n",
    "from visualization import Visualize\n",
    "from Learning import PDElearn\n",
    "from helper_functions import latexify_varcoef\n",
    "import numpy as np\n",
    "import pdb\n",
    "import time\n",
    "\n",
    "\n",
    "files = [\n",
    "'advection_reaction_analytical_635_195_886.txt',\n",
    "'advection_reaction_analytical_635_195_323.txt',\n",
    "'advection_reaction_analytical_635_195_871.txt',\n",
    "'advection_reaction_analytical_635_195_807.txt',\n",
    "'advection_reaction_analytical_635_195_411.txt',\n",
    "'advection_reaction_analytical_635_195_902.txt',\n",
    "'advection_reaction_analytical_635_195_757.txt',\n",
    "'advection_reaction_analytical_635_195_160.txt',\n",
    "'advection_reaction_analytical_635_195_307.txt',\n",
    "'advection_reaction_analytical_635_195_752.txt',\n",
    "'advection_reaction_analytical_635_195_730.txt'\n",
    "]\n",
    "\n",
    "case = '_'.join(files[0].split('_')[:-3])\n",
    "print(case)\n",
    "\n",
    "\n",
    "# GET LEARNING DATA\n",
    "output_vec = []\n",
    "metadata_vec = []\n",
    "for i, f in enumerate(files):\n",
    "\tD = DataIO(case=case, directory=LEARNDIR)\n",
    "\toutput, metadata = D.readLearningResults(f)\n",
    "\toutput_vec.append(output)\n",
    "\tmetadata_vec.append(metadata)\n",
    "\n",
    "# GET PDF\n",
    "dataman = DataIO(case, directory=PDFDIR) \n",
    "fu0, gridvars, ICparams = dataman.loadSolution('advection_reaction_analytical_635_195.npy', array_opt='marginal')\n",
    "grid0 = PdfGrid(gridvars)\n"
   ]
  },
  {
   "cell_type": "code",
   "execution_count": 5,
   "metadata": {},
   "outputs": [],
   "source": [
    "#######################################################################\n",
    "\n",
    "A = Analyze()\n",
    "portion_from_boundary = [m['ICparams']['adjustgrid']['mu'][0] for m in metadata_vec]\n",
    "alpha, mse = A.getRegMseDependence_single(output)\n",
    "alphas, coefficients, feats = A.getCoefRegDependence(output)\n",
    "# mse = [np.min(output['mse_path']) for m in metadata_vec]\n",
    "\n",
    "savename = 'advectreact_mse'\n",
    "\n",
    "variable = portion_from_boundary\n",
    "xlabel = 'Regularlization Coefficient'\n",
    "\n",
    "\n"
   ]
  },
  {
   "cell_type": "code",
   "execution_count": 14,
   "metadata": {},
   "outputs": [
    {
     "data": {
      "text/plain": [
       "0.0"
      ]
     },
     "execution_count": 14,
     "metadata": {},
     "output_type": "execute_result"
    }
   ],
   "source": [
    "output['alpha']"
   ]
  },
  {
   "cell_type": "code",
   "execution_count": 13,
   "metadata": {},
   "outputs": [
    {
     "data": {
      "image/png": "[encoded data removed]",
      "text/plain": [
       "<Figure size 432x288 with 2 Axes>"
      ]
     },
     "metadata": {
      "needs_background": "light"
     },
     "output_type": "display_data"
    }
   ],
   "source": [
    "fig, ax = plt.subplots(1, 2)\n",
    "ax[0].plot(alpha, mse)\n",
    "plt.show()"
   ]
  },
  {
   "cell_type": "code",
   "execution_count": null,
   "metadata": {},
   "outputs": [],
   "source": []
  }
 ],
 "metadata": {
  "kernelspec": {
   "display_name": "Python 3",
   "language": "python",
   "name": "python3"
  },
  "language_info": {
   "codemirror_mode": {
    "name": "ipython",
    "version": 3
   },
   "file_extension": ".py",
   "mimetype": "text/x-python",
   "name": "python",
   "nbconvert_exporter": "python",
   "pygments_lexer": "ipython3",
   "version": "3.7.1"
  }
 },
 "nbformat": 4,
 "nbformat_minor": 2
}
