{
 "cells": [
  {
   "cell_type": "code",
   "execution_count": 2,
   "metadata": {},
   "outputs": [],
   "source": [
    "from __future__ import print_function\n",
    "\n",
    "import numpy as np\n",
    "\n",
    "import matplotlib.pyplot as plt\n",
    "import matplotlib as mpl\n",
    "from mpl_toolkits.mplot3d import Axes3D\n",
    "from matplotlib import cm\n",
    "from matplotlib.ticker import LinearLocator, FormatStrFormatter\n",
    "\n",
    "from __init__ import *\n",
    "from datamanage import DataIO\n",
    "from advection2d import Grid2d, Simulation\n",
    "from pdfsolver import PdfGrid\n",
    "from Learning import PDElearn"
   ]
  },
  {
   "source": [
    "Set up input variables for solver and range of computation. "
   ],
   "cell_type": "markdown",
   "metadata": {}
  },
  {
   "cell_type": "code",
   "execution_count": null,
   "metadata": {},
   "outputs": [],
   "source": [
    "problem = \"gaussian\"\n",
    "tmax = .7\n",
    "C = 0.2\n",
    "k = 0.4\n",
    "power = 2\n",
    "\n",
    "xmin = -4.0\n",
    "xmax = 4.0\n",
    "ymin = -4.0\n",
    "ymax = 4.0\n",
    "\n",
    "params = [0.0, 0.3, 0.0, 0.3, 0]\n",
    "\n",
    "ng = 3\n",
    "nx = 400\n",
    "ny = 400\n"
   ]
  },
  {
   "source": [
    "Create grid for u(x, t) and run monte carlo simulations"
   ],
   "cell_type": "markdown",
   "metadata": {}
  },
  {
   "cell_type": "code",
   "execution_count": 3,
   "metadata": {
    "scrolled": true
   },
   "outputs": [
    {
     "output_type": "stream",
     "name": "stdout",
     "text": [
      "starting to evolve\n",
      " 34%|███▍      | 240/707 [02:56<05:42,  1.36it/s]\n"
     ]
    },
    {
     "output_type": "error",
     "ename": "KeyboardInterrupt",
     "evalue": "",
     "traceback": [
      "\u001b[0;31m---------------------------------------------------------------------------\u001b[0m",
      "\u001b[0;31mKeyboardInterrupt\u001b[0m                         Traceback (most recent call last)",
      "\u001b[0;32m<ipython-input-3-d80c11f1ad52>\u001b[0m in \u001b[0;36m<module>\u001b[0;34m\u001b[0m\n\u001b[1;32m     25\u001b[0m \u001b[0;34m\u001b[0m\u001b[0m\n\u001b[1;32m     26\u001b[0m \u001b[0mprint\u001b[0m\u001b[0;34m(\u001b[0m\u001b[0;34m'starting to evolve'\u001b[0m\u001b[0;34m)\u001b[0m\u001b[0;34m\u001b[0m\u001b[0;34m\u001b[0m\u001b[0m\n\u001b[0;32m---> 27\u001b[0;31m \u001b[0mtt\u001b[0m\u001b[0;34m,\u001b[0m \u001b[0matot\u001b[0m \u001b[0;34m=\u001b[0m \u001b[0msg\u001b[0m\u001b[0;34m.\u001b[0m\u001b[0mevolve\u001b[0m\u001b[0;34m(\u001b[0m\u001b[0mtmax\u001b[0m\u001b[0;34m=\u001b[0m\u001b[0mtmax\u001b[0m\u001b[0;34m)\u001b[0m\u001b[0;34m\u001b[0m\u001b[0;34m\u001b[0m\u001b[0m\n\u001b[0m",
      "\u001b[0;32m~/Documents/academic/research/learn-pdf-method/codes/learning-pdf/code/solvers/advection2d.py\u001b[0m in \u001b[0;36mevolve\u001b[0;34m(self, tmax)\u001b[0m\n\u001b[1;32m    291\u001b[0m             \u001b[0;31m# solve the Riemann problem at all interfaces\u001b[0m\u001b[0;34m\u001b[0m\u001b[0;34m\u001b[0m\u001b[0;34m\u001b[0m\u001b[0m\n\u001b[1;32m    292\u001b[0m             \u001b[0mfluxx\u001b[0m \u001b[0;34m=\u001b[0m \u001b[0mself\u001b[0m\u001b[0;34m.\u001b[0m\u001b[0mriemannx\u001b[0m\u001b[0;34m(\u001b[0m\u001b[0mal\u001b[0m\u001b[0;34m,\u001b[0m \u001b[0mar\u001b[0m\u001b[0;34m)\u001b[0m\u001b[0;34m\u001b[0m\u001b[0;34m\u001b[0m\u001b[0m\n\u001b[0;32m--> 293\u001b[0;31m             \u001b[0mfluxy\u001b[0m \u001b[0;34m=\u001b[0m \u001b[0mself\u001b[0m\u001b[0;34m.\u001b[0m\u001b[0mriemanny\u001b[0m\u001b[0;34m(\u001b[0m\u001b[0mad\u001b[0m\u001b[0;34m,\u001b[0m \u001b[0mau\u001b[0m\u001b[0;34m)\u001b[0m\u001b[0;34m\u001b[0m\u001b[0;34m\u001b[0m\u001b[0m\n\u001b[0m\u001b[1;32m    294\u001b[0m \u001b[0;34m\u001b[0m\u001b[0m\n\u001b[1;32m    295\u001b[0m             \u001b[0;31m# do the conservative update\u001b[0m\u001b[0;34m\u001b[0m\u001b[0;34m\u001b[0m\u001b[0;34m\u001b[0m\u001b[0m\n",
      "\u001b[0;32m~/Documents/academic/research/learn-pdf-method/codes/learning-pdf/code/solvers/advection2d.py\u001b[0m in \u001b[0;36mriemanny\u001b[0;34m(self, ad, au)\u001b[0m\n\u001b[1;32m    245\u001b[0m                 \u001b[0;31m#if self.src_der(g.Y[i, j])*g.a[i, j] < slopey*self.src(g.Y[i, j]) :\u001b[0m\u001b[0;34m\u001b[0m\u001b[0;34m\u001b[0m\u001b[0;34m\u001b[0m\u001b[0m\n\u001b[1;32m    246\u001b[0m                 \u001b[0;32mif\u001b[0m \u001b[0mu\u001b[0m \u001b[0;34m>\u001b[0m \u001b[0;36m0.0\u001b[0m\u001b[0;34m:\u001b[0m\u001b[0;34m\u001b[0m\u001b[0;34m\u001b[0m\u001b[0m\n\u001b[0;32m--> 247\u001b[0;31m                     \u001b[0mflux\u001b[0m\u001b[0;34m[\u001b[0m\u001b[0mi\u001b[0m\u001b[0;34m,\u001b[0m \u001b[0mj\u001b[0m\u001b[0;34m]\u001b[0m \u001b[0;34m=\u001b[0m \u001b[0mself\u001b[0m\u001b[0;34m.\u001b[0m\u001b[0msrc\u001b[0m\u001b[0;34m(\u001b[0m\u001b[0mg\u001b[0m\u001b[0;34m.\u001b[0m\u001b[0mY\u001b[0m\u001b[0;34m[\u001b[0m\u001b[0mi\u001b[0m\u001b[0;34m,\u001b[0m \u001b[0mj\u001b[0m\u001b[0;34m]\u001b[0m\u001b[0;34m)\u001b[0m \u001b[0;34m*\u001b[0m \u001b[0mad\u001b[0m\u001b[0;34m[\u001b[0m\u001b[0mi\u001b[0m\u001b[0;34m,\u001b[0m \u001b[0mj\u001b[0m\u001b[0;34m]\u001b[0m \u001b[0;31m# Try the average\u001b[0m\u001b[0;34m\u001b[0m\u001b[0;34m\u001b[0m\u001b[0m\n\u001b[0m\u001b[1;32m    248\u001b[0m                 \u001b[0;32melse\u001b[0m\u001b[0;34m:\u001b[0m\u001b[0;34m\u001b[0m\u001b[0;34m\u001b[0m\u001b[0m\n\u001b[1;32m    249\u001b[0m                     \u001b[0mflux\u001b[0m\u001b[0;34m[\u001b[0m\u001b[0mi\u001b[0m\u001b[0;34m,\u001b[0m \u001b[0mj\u001b[0m\u001b[0;34m]\u001b[0m \u001b[0;34m=\u001b[0m \u001b[0mself\u001b[0m\u001b[0;34m.\u001b[0m\u001b[0msrc\u001b[0m\u001b[0;34m(\u001b[0m\u001b[0mg\u001b[0m\u001b[0;34m.\u001b[0m\u001b[0mY\u001b[0m\u001b[0;34m[\u001b[0m\u001b[0mi\u001b[0m\u001b[0;34m,\u001b[0m \u001b[0mj\u001b[0m\u001b[0;34m]\u001b[0m\u001b[0;34m)\u001b[0m \u001b[0;34m*\u001b[0m \u001b[0mau\u001b[0m\u001b[0;34m[\u001b[0m\u001b[0mi\u001b[0m\u001b[0;34m,\u001b[0m \u001b[0mj\u001b[0m\u001b[0;34m]\u001b[0m\u001b[0;34m\u001b[0m\u001b[0;34m\u001b[0m\u001b[0m\n",
      "\u001b[0;31mKeyboardInterrupt\u001b[0m: "
     ]
    }
   ],
   "source": [
    "\n",
    "err = []\n",
    "\n",
    "# no limiting\n",
    "gg = Grid2d(nx, ny, ng, xmin=xmin, xmax=xmax, ymin=ymin, ymax=ymax)\n",
    "sg = Simulation(gg, C=C, k=k, power=power)\n",
    "sg.init_cond(problem, params)\n",
    "ainit = sg.grid.a.copy()\n",
    "\n",
    "print('starting to evolve')\n",
    "tt, atot = sg.evolve(tmax=tmax)\n"
   ]
  },
  {
   "cell_type": "code",
   "execution_count": null,
   "metadata": {},
   "outputs": [],
   "source": [
    "Create "
   ]
  },
  {
   "cell_type": "code",
   "execution_count": null,
   "metadata": {},
   "outputs": [],
   "source": [
    "mxl = 100\n",
    "mxr = 100\n",
    "myl = 100\n",
    "myr = 100\n",
    "\n",
    "fu_xUt = atot[gg.ilox+mxl: gg.ihix+1-mxr, gg.iloy+myl: gg.ihiy+1-myr, :]\n",
    "fu_Uxt = np.transpose(fu_xUt, (1, 0, 2)) # Or np.transpose(fu, (2, 1, 0))\n",
    "xx = gg.x[gg.ilox+mxl:gg.ihix+1-mxr]\n",
    "uu = gg.y[gg.iloy+myl:gg.ihiy+1-myr]\n",
    "\n",
    "U, X = np.meshgrid(uu, xx, indexing='ij')"
   ]
  },
  {
   "cell_type": "code",
   "execution_count": null,
   "metadata": {},
   "outputs": [],
   "source": [
    "# Plotting\n",
    "\n",
    "tidx = -1\n",
    "\n",
    "for i in [0, tidx]:\n",
    "    fig = plt.figure()\n",
    "    ax = fig.gca(projection='3d')\n",
    "    surf = ax.plot_surface(U, X, fu_Uxt[:, :, i], cmap=cm.coolwarm, linewidth=0, antialiased=False)\n",
    "    ax.set_xlabel('U')\n",
    "    ax.set_ylabel('x')\n",
    "    ax.set_zlabel('PDF')\n",
    "    ax.zaxis.set_major_locator(LinearLocator(10))\n",
    "    ax.zaxis.set_major_formatter(FormatStrFormatter('%.02f'))\n",
    "    fig.colorbar(surf, shrink=0.5, aspect=5)\n",
    "\n",
    "\n",
    "fig = plt.figure()\n",
    "\n",
    "pd = 10\n",
    "n = 1\n",
    "xidxmid = int((len(xx)-1)/2)\n",
    "xidxvec = [xidxmid-int(n/2)+i*pd for i in range(n)]\n",
    "c= ['k', 'r', 'b']\n",
    "for i, xidx in enumerate(xidxvec):\n",
    "    plt.plot(uu, fu_Uxt[:, xidx, 0], '--', color=c[i])\n",
    "    plt.plot(uu, fu_Uxt[:, xidx, tidx], color=c[i])\n",
    "plt.xlabel('U')\n",
    "plt.ylabel('fu(U; x_0, t)')\n",
    "plt.legend(['fu(U) t = 0', 'fu(U) t = %3.2f'%(tt[-1])])\n",
    "\n",
    "plt.savefig('fuU_advection_reaction')\n",
    "\n",
    "fig = plt.figure()\n",
    "\n",
    "uidxmid = int((len(uu)-1)/2)\n",
    "plt.plot(xx, fu_Uxt[uidxmid, :, 0], '--', color=c[i])\n",
    "plt.plot(xx, fu_Uxt[uidxmid, :, tidx], color=c[i])\n",
    "plt.xlabel('x')\n",
    "plt.ylabel('fu(U_0; x, t)')\n",
    "plt.legend(['fu(x) t = 0', 'fu(x) t = %3.2f'%(tt[-1])])\n",
    "\n",
    "plt.savefig('fux_advection_reaction')\n",
    "\n",
    "plt.show()"
   ]
  },
  {
   "cell_type": "code",
   "execution_count": null,
   "metadata": {},
   "outputs": [],
   "source": [
    "# Save\n",
    "case = 'advection_reaction'\n",
    "D = DataIO(case=case)\n",
    "\n",
    "gridvars = {'u': [uu[0], uu[-1], (uu[-1]-uu[0])/len(uu)], 't': [tt[0], tt[-1], (tt[-1]-tt[0])/len(tt)], 'x':[xx[0], xx[-1], (xx[-1]-xx[0])/len(xx)]}\n",
    "ICparams = {'u0':'gaussian', \n",
    "            'fu0':'gaussian',\n",
    "            'params': params,\n",
    "            'k': k,\n",
    "            'reaction u^': power,\n",
    "            'distribution': 'PDF'}\n",
    "\n",
    "solution = {'fu': fu_Uxt, 'gridvars': gridvars}\n",
    "metadata = {'ICparams': ICparams, 'gridvars': gridvars} \n",
    "\n",
    "savename = D.saveSolution(solution, metadata)\n"
   ]
  },
  {
   "cell_type": "code",
   "execution_count": null,
   "metadata": {
    "scrolled": true
   },
   "outputs": [],
   "source": [
    "# LEARN\n",
    "\n",
    "\n",
    "loadnamenpy = savename + '.npy'\n",
    "#loadnamenpy = \"advection_reaction_2562.npy\"\n",
    "    \n",
    "case = '_'.join(loadnamenpy.split('_')[:2])\n",
    "dataman = DataIO(case) \n",
    "fu, gridvars, ICparams = dataman.loadSolution(loadnamenpy)\n",
    "\n",
    "print(loadnamenpy)\n",
    "\n",
    "#fu = fu_Uxt\n",
    "\n",
    "#Make fu smaller (in time)\n",
    "tt = np.linspace(gridvars['t'][0], gridvars['t'][1], round( (gridvars['t'][1] - gridvars['t'][0]) / gridvars['t'][2] ))\n",
    "period = 4\n",
    "indexes = np.array([i*period for i in range((len(tt))//period)])\n",
    "ttnew = tt[indexes]\n",
    "fu = fu[:, :, indexes]\n",
    "gridvars['t'][1] = ttnew[-1]\n",
    "gridvars['t'][2] = (ttnew[-1]-ttnew[0])/len(ttnew)\n",
    "\n",
    "\n",
    "grid = PdfGrid(gridvars)\n",
    "# Learn \n",
    "difflearn = PDElearn(grid=grid, fu=fu, ICparams=ICparams, scase=case, trainratio=0.4, debug=False, verbose=True)\n",
    "difflearn.fit_sparse(feature_opt='1storder', variableCoef=True, variableCoefBasis='simple_polynomial', variableCoefOrder=2, use_sindy=True, sindy_alpha=0.005, shuffle=False)"
   ]
  },
  {
   "cell_type": "code",
   "execution_count": null,
   "metadata": {},
   "outputs": [],
   "source": []
  },
  {
   "cell_type": "code",
   "execution_count": null,
   "metadata": {},
   "outputs": [],
   "source": []
  }
 ],
 "metadata": {
  "kernelspec": {
   "name": "python371jvsc74a57bd0e534e48711db4d1e1c48977d0d14ff85b1f16d41bcc4fdfd88268a329b3c9d66",
   "display_name": "Python 3.7.1 64-bit ('3.7')"
  },
  "language_info": {
   "codemirror_mode": {
    "name": "ipython",
    "version": 3
   },
   "file_extension": ".py",
   "mimetype": "text/x-python",
   "name": "python",
   "nbconvert_exporter": "python",
   "pygments_lexer": "ipython3",
   "version": "3.7.1"
  }
 },
 "nbformat": 4,
 "nbformat_minor": 2
}